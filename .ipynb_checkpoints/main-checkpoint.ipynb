{
 "cells": [
  {
   "cell_type": "code",
   "execution_count": 4,
   "metadata": {},
   "outputs": [],
   "source": [
    "import os\n",
    "import datetime"
   ]
  },
  {
   "cell_type": "code",
   "execution_count": 5,
   "metadata": {},
   "outputs": [],
   "source": [
    "path_name = os.getcwd()\n",
    "folder = \"July2019\""
   ]
  },
  {
   "cell_type": "code",
   "execution_count": 6,
   "metadata": {},
   "outputs": [],
   "source": [
    "from mta_gtfs_data_getter import download_gtfs_data"
   ]
  },
  {
   "cell_type": "code",
   "execution_count": 7,
   "metadata": {},
   "outputs": [
    {
     "name": "stdout",
     "output_type": "stream",
     "text": [
      "Downloading the data.............\n",
      "Done! Check the July2019 folder\n"
     ]
    }
   ],
   "source": [
    "download_gtfs_data(folder)"
   ]
  },
  {
   "cell_type": "code",
   "execution_count": 8,
   "metadata": {},
   "outputs": [],
   "source": [
    "from mta_gtfs_shapefiles_maker import make_bus_routes_shapefiles, make_bus_stops_shapefiles, make_rail_routes_shapefiles, make_rail_stops_shapefiles, make_subway_entrances_shapefiles"
   ]
  },
  {
   "cell_type": "code",
   "execution_count": 9,
   "metadata": {},
   "outputs": [],
   "source": [
    "rails = [\"LIRR\", \"metro_north\", \"nyc_subway\"]"
   ]
  },
  {
   "cell_type": "code",
   "execution_count": 10,
   "metadata": {},
   "outputs": [
    {
     "name": "stdout",
     "output_type": "stream",
     "text": [
      "Created route shapefiles for LIRR\n"
     ]
    },
    {
     "name": "stderr",
     "output_type": "stream",
     "text": [
      "/Users/anastasiaclark/anaconda3/envs/GDAL/lib/python3.6/site-packages/pandas/core/ops.py:1649: FutureWarning: elementwise comparison failed; returning scalar instead, but in the future will perform elementwise comparison\n",
      "  result = method(y)\n"
     ]
    },
    {
     "name": "stdout",
     "output_type": "stream",
     "text": [
      "Created stop shapefiles for LIRR\n",
      "Created route shapefiles for metro_north\n",
      "Created stop shapefiles for metro_north\n",
      "Created route shapefiles for nyc_subway\n",
      "Created stop shapefiles for nyc_subway\n"
     ]
    }
   ],
   "source": [
    "for rail in rails:\n",
    "    make_rail_routes_shapefiles(path=path_name, folder=folder, rail=rail)\n",
    "    make_rail_stops_shapefiles(path=path_name, folder=folder, rail=rail)"
   ]
  },
  {
   "cell_type": "code",
   "execution_count": 11,
   "metadata": {},
   "outputs": [
    {
     "name": "stdout",
     "output_type": "stream",
     "text": [
      "Created line shapefiles for local and express bus routes\n"
     ]
    }
   ],
   "source": [
    "make_bus_routes_shapefiles(path=path_name, folder=folder)"
   ]
  },
  {
   "cell_type": "code",
   "execution_count": 12,
   "metadata": {},
   "outputs": [
    {
     "name": "stdout",
     "output_type": "stream",
     "text": [
      "Created stop shapefiles for local and express bus stops\n"
     ]
    }
   ],
   "source": [
    "make_bus_stops_shapefiles(path=path_name, folder=folder)"
   ]
  },
  {
   "cell_type": "code",
   "execution_count": 13,
   "metadata": {},
   "outputs": [
    {
     "name": "stdout",
     "output_type": "stream",
     "text": [
      "Created subway entrances shapefiles\n"
     ]
    }
   ],
   "source": [
    "make_subway_entrances_shapefiles(path=path_name, folder=folder)"
   ]
  },
  {
   "cell_type": "code",
   "execution_count": null,
   "metadata": {},
   "outputs": [],
   "source": []
  }
 ],
 "metadata": {
  "kernelspec": {
   "display_name": "Python 3",
   "language": "python",
   "name": "python3"
  },
  "language_info": {
   "codemirror_mode": {
    "name": "ipython",
    "version": 3
   },
   "file_extension": ".py",
   "mimetype": "text/x-python",
   "name": "python",
   "nbconvert_exporter": "python",
   "pygments_lexer": "ipython3",
   "version": "3.6.7"
  }
 },
 "nbformat": 4,
 "nbformat_minor": 2
}
