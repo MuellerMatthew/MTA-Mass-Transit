{
 "cells": [
  {
   "cell_type": "code",
   "execution_count": 4,
   "metadata": {},
   "outputs": [],
   "source": [
    "%load_ext blackcellmagic"
   ]
  },
  {
   "cell_type": "code",
   "execution_count": 6,
   "metadata": {},
   "outputs": [],
   "source": [
    "import geopandas as gpd\n",
    "import pandas as pd\n",
    "import os\n",
    "import re\n",
    "from shapely.geometry import Point\n",
    "from fiona.crs import from_epsg\n",
    "import logging\n",
    "\n",
    "# configure logger\n",
    "logger = logging.getLogger(__name__)\n",
    "logger.setLevel(logging.INFO)\n",
    "handler = logging.FileHandler(\"error_log.log\")\n",
    "handler.setLevel(logging.ERROR)\n",
    "formatter = logging.Formatter(\"%(asctime)s - %(name)s - %(levelname)s - %(message)s\")\n",
    "handler.setFormatter(formatter)\n",
    "logger.addHandler(handler)\n",
    "\n",
    "\n",
    "path = \"/Users/anastasiaclark/MyStaff/Git_Work/MTA-Mass-Transit\"\n",
    "path = os.getcwd()\n",
    "yearMonth = \"Jun2019\"\n",
    "folder = \"June2019\"\n",
    "\n",
    "\n",
    "def process_stops(file):\n",
    "    \"\"\"Read bus stop tables, joins them and dedups\"\"\"\n",
    "    stops = pd.read_csv(os.path.join(file, \"stops.txt\"))\n",
    "    stop_times = pd.read_csv(os.path.join(file, \"stop_times.txt\"))\n",
    "    trips = pd.read_csv(os.path.join(file, \"trips.txt\"))\n",
    "    stops = pd.merge(stops, stop_times, on=\"stop_id\", how=\"left\")\n",
    "    stops = stops.merge(trips, on=\"trip_id\", how=\"left\")\n",
    "    stops = pd.DataFrame(\n",
    "        stops, columns=[\"stop_id\", \"stop_name\", \"stop_lat\", \"stop_lon\", \"route_id\"]\n",
    "    )\n",
    "    unique_routes_at_stops = stops.drop_duplicates()\n",
    "    return unique_routes_at_stops\n",
    "\n",
    "\n",
    "def make_stop_shapes(df, x=\"stop_lon\", y=\"stop_lat\"):\n",
    "    points = [Point(xy) for xy in zip(df[x], df[y])]\n",
    "    gdf = gpd.GeoDataFrame(df, geometry=points)\n",
    "    gdf.crs = from_epsg(4269)  # initiate crs as NAD83\n",
    "    gdf = gdf.to_crs(epsg=2263)  # NY State Plane\n",
    "    return gdf\n",
    "\n",
    "\n",
    "def make_bus_stops(path, folder):\n",
    "    buses = [\"mn_bus\", \"si_bus\", \"qn_bus\", \"bx_bus\", \"bk_bus\", \"bus_company\"]\n",
    "    bus_stops = []\n",
    "    try:\n",
    "        for bus in buses:\n",
    "            file = os.path.join(path, folder, f\"{bus}\")\n",
    "            stops = process_stops(file)\n",
    "            bus_stops.append(stops)\n",
    "\n",
    "        all_stops = pd.concat(bus_stops)\n",
    "\n",
    "        local_stops_mask = all_stops[\"route_id\"].str.match(r\"\\w\\d+|BX\\d+\")\n",
    "        local_stops_mask = local_stops_mask.fillna(False)\n",
    "\n",
    "        local_stops = all_stops.loc[local_stops_mask].copy()\n",
    "        express_stops = all_stops.loc[~local_stops_mask].copy()\n",
    "\n",
    "        local_stop_shapes = make_stop_shapes(local_stops)\n",
    "        express_stop_shapes = make_stop_shapes(express_stops)\n",
    "\n",
    "        counties = gpd.read_file(\n",
    "            os.path.join(path, \"counties_bndry.geojson\"), driver=\"GeoJSON\"\n",
    "        )\n",
    "        counties = counties.to_crs(from_epsg(2263))\n",
    "\n",
    "        local_stop_shapes = gpd.sjoin(\n",
    "            local_stop_shapes, counties, how=\"inner\", op=\"intersects\"\n",
    "        ).drop([\"route_id\", \"index_right\"], 1)\n",
    "\n",
    "        express_stop_shapes = gpd.sjoin(\n",
    "            express_stop_shapes, counties, how=\"inner\", op=\"intersects\"\n",
    "        ).drop([\"route_id\", \"index_right\"], 1)\n",
    "\n",
    "        local_stop_shapes.to_file(\n",
    "            os.path.join(path, folder, \"shapes\", f\"bus_stops_nyc_{yearMonth}.shp\")\n",
    "        )\n",
    "\n",
    "        express_stop_shapes.to_file(\n",
    "            os.path.join(\n",
    "                path, folder, \"shapes\", f\"express_bus_stops_nyc_{yearMonth}.shp\"\n",
    "            )\n",
    "        )\n",
    "        print (f\"Created stop shapefiles for local and express bus stops\")\n",
    "        \n",
    "    except Exception as e:\n",
    "        logger.exception(\"Unexpected exception occurred\")\n",
    "        raise"
   ]
  },
  {
   "cell_type": "code",
   "execution_count": 7,
   "metadata": {},
   "outputs": [
    {
     "name": "stdout",
     "output_type": "stream",
     "text": [
      "Created stop shapefiles for local and express bus stops\n"
     ]
    }
   ],
   "source": [
    "make_bus_stops(path=path, folder=folder)"
   ]
  },
  {
   "cell_type": "code",
   "execution_count": null,
   "metadata": {},
   "outputs": [],
   "source": []
  }
 ],
 "metadata": {
  "kernelspec": {
   "display_name": "Python 3",
   "language": "python",
   "name": "python3"
  },
  "language_info": {
   "codemirror_mode": {
    "name": "ipython",
    "version": 3
   },
   "file_extension": ".py",
   "mimetype": "text/x-python",
   "name": "python",
   "nbconvert_exporter": "python",
   "pygments_lexer": "ipython3",
   "version": "3.6.7"
  }
 },
 "nbformat": 4,
 "nbformat_minor": 2
}
